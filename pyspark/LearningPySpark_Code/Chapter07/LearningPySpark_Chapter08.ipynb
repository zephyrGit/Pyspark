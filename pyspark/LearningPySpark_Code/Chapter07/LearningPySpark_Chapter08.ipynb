{
 "cells": [
  {
   "cell_type": "markdown",
   "metadata": {},
   "source": [
    "## TensorFrames: Quick Start\n",
    "This notebook provides a TensorFrames Quick Start using Databricks Community Edition.  You can run this from the `pyspark` shell like any other Spark package:\n",
    "\n",
    "```\n",
    "# The version we're using in this notebook\n",
    "$SPARK_HOME/bin/pyspark --packages tjhunter:tensorframes:0.2.2-s_2.10  \n",
    "\n",
    "# The latest version \n",
    "$SPARK_HOME/bin/pyspark --packages databricks:tensorframes:0.2.3-s_2.10\n",
    "```\n",
    "\n",
    "For more information, please refer to the [databricks/tensorframes](https://github.com/databricks/tensorframes) github repo."
   ]
  },
  {
   "cell_type": "markdown",
   "metadata": {},
   "source": [
    "## Configuration and Setup\n",
    "Please follow the configuration and setup steps below in the following order:\n",
    "1. Launch a Spark cluster using **Spark 1.6 (Hadoop 1)** and **Scala 2.10**\n",
    " * This has been tested with Spark 1.6, Spark 1.6.2, and Spark 1.6.3 (Hadoop 1) on [Databricks Community Edition](http://databricks.com/try-databricks)\n",
    "2. Attach to this cluster TensorFrames 0.2.2: `tensorframes-0.2.2-s_2.10`\n",
    "3. In a notebook, run *one* of the following command to install [TensorFlow](https://www.tensorflow.org/).  This has been tested with TensorFlow 0.9 CPU edition (0.9 installs a bit faster) \n",
    " * *TensorFlow 0.9, Ubuntu/Linux 64-bit, CPU only, Python 2.7*\n",
    " `/databricks/python/bin/pip install https://storage.googleapis.com/tensorflow/linux/cpu/tensorflow-0.9.0rc0-cp27-none-linux_x86_64.whl`\n",
    " * *TensorFlow 0.9, Ubuntu/Linux 64-bit, GPU enabled, Python 2.7*\n",
    " `/databricks/python/bin/pip install https://storage.googleapis.com/tensorflow/linux/gpu/tensorflow-0.9.0rc0-cp27-none-linux_x86_64.whl`\n",
    "4. Detach and reattach the notebook you just ran this command from\n",
    "5. Your cluster is now configured. You can run pure tensorflow programs on the driver, or TensorFrames examples on the whole cluster"
   ]
  },
  {
   "cell_type": "markdown",
   "metadata": {},
   "source": [
    "#### Install TensorFlow\n",
    "* Remember to first install TensorFrames 0.2.2: `tensorframes-0.2.2-s_2.10`\n",
    "* This is the `pip install` command that will install `TensorFlow` on to the Apache Spark driver"
   ]
  },
  {
   "cell_type": "code",
   "execution_count": 4,
   "metadata": {},
   "outputs": [],
   "source": [
    "%sh\n",
    "/databricks/python/bin/pip install https://storage.googleapis.com/tensorflow/linux/cpu/tensorflow-0.9.0rc0-cp27-none-linux_x86_64.whl\n"
   ]
  },
  {
   "cell_type": "markdown",
   "metadata": {},
   "source": [
    "#### Detach and re-attach this notebook from the cluster\n",
    "* Once you have done this, you will be able to run `TensorFlow` programs on the driver and `TensorFrames` programs on the cluster."
   ]
  },
  {
   "cell_type": "markdown",
   "metadata": {},
   "source": [
    "## Quick Start\n",
    "This is a simple TensorFrames program that where the `op` is to perform a simple addition.  The original source code can be found at the [databricks/tensorframes](https://github.com/databricks/tensorframes) GitHub repo. This is in reference to the TensorFrames Readme.md > [How to Run in Python](https://github.com/databricks/tensorframes#how-to-run-in-python) section.\n",
    "\n",
    "\n",
    "### Use Tensorflow to add 3 to an existing column\n",
    "The first thing we will do is import TensorFlow, TensorFrames, and pyspark.sql.row and create a dataframe based on an RDD of floats."
   ]
  },
  {
   "cell_type": "code",
   "execution_count": 1,
   "metadata": {},
   "outputs": [
    {
     "ename": "ModuleNotFoundError",
     "evalue": "No module named 'tensorframes'",
     "output_type": "error",
     "traceback": [
      "\u001b[1;31m---------------------------------------------------------------------------\u001b[0m",
      "\u001b[1;31mModuleNotFoundError\u001b[0m                       Traceback (most recent call last)",
      "\u001b[1;32m<ipython-input-1-659c051f9bb1>\u001b[0m in \u001b[0;36m<module>\u001b[1;34m()\u001b[0m\n\u001b[0;32m      1\u001b[0m \u001b[1;31m# Import TensorFlow, TensorFrames, and Row\u001b[0m\u001b[1;33m\u001b[0m\u001b[1;33m\u001b[0m\u001b[1;33m\u001b[0m\u001b[0m\n\u001b[0;32m      2\u001b[0m \u001b[1;32mimport\u001b[0m \u001b[0mtensorflow\u001b[0m \u001b[1;32mas\u001b[0m \u001b[0mtf\u001b[0m\u001b[1;33m\u001b[0m\u001b[1;33m\u001b[0m\u001b[0m\n\u001b[1;32m----> 3\u001b[1;33m \u001b[1;32mimport\u001b[0m \u001b[0mtensorframes\u001b[0m \u001b[1;32mas\u001b[0m \u001b[0mtfs\u001b[0m\u001b[1;33m\u001b[0m\u001b[1;33m\u001b[0m\u001b[0m\n\u001b[0m\u001b[0;32m      4\u001b[0m \u001b[1;32mfrom\u001b[0m \u001b[0mpyspark\u001b[0m\u001b[1;33m.\u001b[0m\u001b[0msql\u001b[0m \u001b[1;32mimport\u001b[0m \u001b[0mRow\u001b[0m\u001b[1;33m\u001b[0m\u001b[1;33m\u001b[0m\u001b[0m\n\u001b[0;32m      5\u001b[0m \u001b[1;33m\u001b[0m\u001b[0m\n",
      "\u001b[1;31mModuleNotFoundError\u001b[0m: No module named 'tensorframes'"
     ]
    }
   ],
   "source": [
    "# Import TensorFlow, TensorFrames, and Row\n",
    "import tensorflow as tf\n",
    "import tensorframes as tfs\n",
    "from pyspark.sql import Row\n",
    "\n",
    "# Create RDD of floats and convert into DataFrame `df`\n",
    "rdd = [Row(x=float(x)) for x in range(10)]\n",
    "df = sqlContext.createDataFrame(rdd)"
   ]
  },
  {
   "cell_type": "markdown",
   "metadata": {},
   "source": [
    "View the `df` DataFrame generated by the RDD of floats"
   ]
  },
  {
   "cell_type": "code",
   "execution_count": 9,
   "metadata": {},
   "outputs": [],
   "source": [
    "df.show()"
   ]
  },
  {
   "cell_type": "markdown",
   "metadata": {},
   "source": [
    "#### Execute the Tensor Graph\n",
    "As noted above, this Tensor graph consists of adding 3 to the tensor created by the `df` DataFrame generated by the RDD of floats.\n",
    "* `x` utilizes `tfs.block` where `block` builds a block placeholder based on the content of a column in a dataframe.\n",
    "* `z` is a the output tensor from the tensorflow add method (`tf.add`) \n",
    "* `df2` is the new DataFrame which adds extra columns to the `df` DataFrame with the `z` tensor block by block"
   ]
  },
  {
   "cell_type": "code",
   "execution_count": 11,
   "metadata": {},
   "outputs": [],
   "source": [
    "# Run TensorFlow program executes:\n",
    "#   The `op` performs the addition (i.e. `x` + `3`)\n",
    "#   Place the data back into a DataFrame\n",
    "with tf.Graph().as_default() as g:\n",
    "    # The TensorFlow placeholder that corresponds to column 'x'.\n",
    "    # The shape of the placeholder is automatically inferred from the DataFrame.\n",
    "    x = tfs.block(df, \"x\")\n",
    "    \n",
    "    # The output that adds y to x\n",
    "    z = tf.add(x, 3, name='z')\n",
    "    \n",
    "    # The resulting dataframe\n",
    "    df2 = tfs.map_blocks(z, df)\n",
    "\n",
    "# Note that `z` is the tensor output from the `tf.add` operation\n",
    "print z"
   ]
  },
  {
   "cell_type": "markdown",
   "metadata": {},
   "source": [
    "#### Review the output dataframe\n",
    "With the tensor added as a column `z` to the `df` dataframe; you now have the `df2` dataframe that allows you to continue working with your data as a Spark DataFrame."
   ]
  },
  {
   "cell_type": "code",
   "execution_count": 13,
   "metadata": {},
   "outputs": [],
   "source": [
    "df2.show()"
   ]
  },
  {
   "cell_type": "markdown",
   "metadata": {},
   "source": [
    "### Block-wise reducing operations example\n",
    "In this next section, we will show how to work with block-wise reducing operations.  Specifically, we will compute the `sum` and `min` of a field  vectors, working with blocks of rows for more efficient processing.\n",
    "\n",
    "\n",
    "\n",
    "#### Building a DataFrame of vectors\n",
    "First, we will create an one-colummn DataFrame of vectors"
   ]
  },
  {
   "cell_type": "code",
   "execution_count": 15,
   "metadata": {},
   "outputs": [],
   "source": [
    "# Build a DataFrame of vectors\n",
    "data = [Row(y=[float(y), float(-y)]) for y in range(10)]\n",
    "df = sqlContext.createDataFrame(data)\n",
    "df.show()"
   ]
  },
  {
   "cell_type": "markdown",
   "metadata": {},
   "source": [
    "### Analyze the DataFrame \n",
    "We need to analyze the DataFrame to determine what is its shape (i.e., dimensions of the vectors).  For example, below, we use the `tfs.print_schema` commmand for the `df` DataFrame."
   ]
  },
  {
   "cell_type": "code",
   "execution_count": 17,
   "metadata": {},
   "outputs": [],
   "source": [
    "# Print the information gathered by TensorFlow to check the content of the DataFrame\n",
    "tfs.print_schema(df)"
   ]
  },
  {
   "cell_type": "markdown",
   "metadata": {},
   "source": [
    "Notice the `double[?,?]` meaning that TensorFlow does not know the dimensions of the vectors."
   ]
  },
  {
   "cell_type": "code",
   "execution_count": 19,
   "metadata": {},
   "outputs": [],
   "source": [
    "# Because the dataframe contains vectors, we need to analyze it first to find the\n",
    "# dimensions of the vectors.\n",
    "df2 = tfs.analyze(df)\n",
    "\n",
    "# The information gathered by TF can be printed to check the content:\n",
    "tfs.print_schema(df2)"
   ]
  },
  {
   "cell_type": "markdown",
   "metadata": {},
   "source": [
    "#### Analyze This\n",
    "Upon analysis via `df2` DataFrame, TensorFlow has inferred that `y` contains vectors of size 2.  For small tensors (scalars and vectors), TensorFrames usually infers the shapes of the tensors without requiring a preliminary analysis. If it cannot do it, an error message will indicate that you need to run the DataFrame through `tfs.analyze()` first.\n",
    "\n",
    "\n",
    "### Compute Elementwise Sum and Min of all vectors\n",
    "Now, let's use the analyzed dataframe to compute the sum and the elementwise minimum of all the vectors using `tf.reduce_sum` and `tf.reduce_min`.\n",
    "* [`tf.reduce_sum`](https://www.tensorflow.org/api_docs/python/math_ops/reduction#reduce_sum): compute the sum of elements across dimensions of a tensor, e.g. if `x = x = [[3, 2, 1], [-1, 2, 1]]` then `tf.reduce_sum(x) ==> 8`.\n",
    "* [`tf.reduce_min`](https://www.tensorflow.org/api_docs/python/math_ops/reduction#reduce_min): compute the minimum of elements across dimensions of a tensor, e.g. if `x = x = [[3, 2, 1], [-1, 2, 1]]` then `tf.reduce_min(x) ==> -1`."
   ]
  },
  {
   "cell_type": "code",
   "execution_count": 21,
   "metadata": {},
   "outputs": [],
   "source": [
    "# Note: First, let's make a copy of the 'y' column. This will be very cheap in Spark 2.0+\n",
    "df3 = df2.select(df2.y, df2.y.alias(\"z\"))\n",
    "\n",
    "# Execute the Tensor Graph\n",
    "with tf.Graph().as_default() as g:\n",
    "    # The placeholders. Note the special name that end with '_input':\n",
    "    y_input = tfs.block(df3, 'y', tf_name=\"y_input\")\n",
    "    z_input = tfs.block(df3, 'z', tf_name=\"z_input\")\n",
    "    \n",
    "    # Perform elementwise sum and minimum \n",
    "    y = tf.reduce_sum(y_input, [0], name='y')\n",
    "    z = tf.reduce_min(z_input, [0], name='z')\n",
    "    \n",
    "    # The resulting dataframe\n",
    "    (data_sum, data_min) = tfs.reduce_blocks([y, z], df3)"
   ]
  },
  {
   "cell_type": "code",
   "execution_count": 22,
   "metadata": {},
   "outputs": [],
   "source": [
    "# The final results are numpy arrays:\n",
    "print \"Elementwise sum: %s and minimum: %s \" % (data_sum, data_min)"
   ]
  },
  {
   "cell_type": "markdown",
   "metadata": {},
   "source": [
    "#### Notes:\n",
    "* The scoping of the graphs above is important because TensorFrames finds which DataFrame column to feed to TensorFrames based on the placeholders of the graph. \n",
    "* It is good practice to keep small graphs when sending them to Spark."
   ]
  },
  {
   "cell_type": "code",
   "execution_count": 24,
   "metadata": {},
   "outputs": [],
   "source": []
  }
 ],
 "metadata": {
  "kernelspec": {
   "display_name": "Python 3",
   "language": "python",
   "name": "python3"
  },
  "language_info": {
   "codemirror_mode": {
    "name": "ipython",
    "version": 3
   },
   "file_extension": ".py",
   "mimetype": "text/x-python",
   "name": "python",
   "nbconvert_exporter": "python",
   "pygments_lexer": "ipython3",
   "version": "3.6.8"
  },
  "name": "TensorFrames: Quick Start",
  "notebookId": 2815478197173465
 },
 "nbformat": 4,
 "nbformat_minor": 1
}
